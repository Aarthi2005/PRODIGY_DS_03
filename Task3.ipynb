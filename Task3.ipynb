{
  "nbformat": 4,
  "nbformat_minor": 0,
  "metadata": {
    "colab": {
      "provenance": []
    },
    "kernelspec": {
      "name": "python3",
      "display_name": "Python 3"
    },
    "language_info": {
      "name": "python"
    }
  },
  "cells": [
    {
      "cell_type": "code",
      "execution_count": 2,
      "metadata": {
        "colab": {
          "base_uri": "https://localhost:8080/"
        },
        "id": "qbruBBhF4zpY",
        "outputId": "8fe1daa5-9b8c-4b8c-f64e-4f5c59ace3b2"
      },
      "outputs": [
        {
          "output_type": "stream",
          "name": "stdout",
          "text": [
            "Accuracy: 0.9151493080844866\n",
            "Classification Report:\n",
            "              precision    recall  f1-score   support\n",
            "\n",
            "           0       0.94      0.96      0.95      7303\n",
            "           1       0.65      0.54      0.59       935\n",
            "\n",
            "    accuracy                           0.92      8238\n",
            "   macro avg       0.80      0.75      0.77      8238\n",
            "weighted avg       0.91      0.92      0.91      8238\n",
            "\n"
          ]
        }
      ],
      "source": [
        "import pandas as pd\n",
        "from sklearn.model_selection import train_test_split\n",
        "from sklearn.tree import DecisionTreeClassifier\n",
        "from sklearn.metrics import accuracy_score, classification_report\n",
        "import zipfile\n",
        "import urllib.request\n",
        "\n",
        "# Download the ZIP file\n",
        "url = \"https://archive.ics.uci.edu/ml/machine-learning-databases/00222/bank-additional.zip\"\n",
        "zip_path, _ = urllib.request.urlretrieve(url)\n",
        "\n",
        "# Extract the CSV file from the ZIP archive\n",
        "with zipfile.ZipFile(zip_path, 'r') as zip_ref:\n",
        "    zip_ref.extractall()\n",
        "\n",
        "# Load the Dataset\n",
        "bank_data = pd.read_csv(\"bank-additional/bank-additional-full.csv\", sep=';')\n",
        "\n",
        "# Data Preprocessing\n",
        "X = bank_data.drop(columns=['y'])\n",
        "y = (bank_data['y'] == 'yes').astype(int)  # Convert target variable to binary\n",
        "X = pd.get_dummies(X)\n",
        "\n",
        "# Split the Data\n",
        "X_train, X_test, y_train, y_test = train_test_split(X, y, test_size=0.2, random_state=42)\n",
        "\n",
        "# Build the Decision Tree Classifier\n",
        "clf = DecisionTreeClassifier(max_depth=5, random_state=42)\n",
        "\n",
        "# Train the Model\n",
        "clf.fit(X_train, y_train)\n",
        "\n",
        "# Evaluate the Model\n",
        "y_pred = clf.predict(X_test)\n",
        "accuracy = accuracy_score(y_test, y_pred)\n",
        "report = classification_report(y_test, y_pred)\n",
        "\n",
        "print(\"Accuracy:\", accuracy)\n",
        "print(\"Classification Report:\")\n",
        "print(report)\n"
      ]
    }
  ]
}